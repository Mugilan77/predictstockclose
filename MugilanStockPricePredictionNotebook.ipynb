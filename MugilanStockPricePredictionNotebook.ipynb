{
  "metadata": {
    "kernelspec": {
      "language": "python",
      "display_name": "Python 3",
      "name": "python3"
    },
    "language_info": {
      "name": "python",
      "version": "3.10.13",
      "mimetype": "text/x-python",
      "codemirror_mode": {
        "name": "ipython",
        "version": 3
      },
      "pygments_lexer": "ipython3",
      "nbconvert_exporter": "python",
      "file_extension": ".py"
    },
    "kaggle": {
      "accelerator": "none",
      "dataSources": [
        {
          "sourceId": 1054465,
          "sourceType": "datasetVersion",
          "datasetId": 541298
        }
      ],
      "dockerImageVersionId": 30698,
      "isInternetEnabled": false,
      "language": "python",
      "sourceType": "notebook",
      "isGpuEnabled": false
    },
    "colab": {
      "name": "MugilanStockPricePredictionNotebook",
      "provenance": [],
      "include_colab_link": true
    }
  },
  "nbformat_minor": 0,
  "nbformat": 4,
  "cells": [
    {
      "cell_type": "markdown",
      "metadata": {
        "id": "view-in-github",
        "colab_type": "text"
      },
      "source": [
        "<a href=\"https://colab.research.google.com/github/Mugilan77/predictstockclose/blob/main/MugilanStockPricePredictionNotebook.ipynb\" target=\"_parent\"><img src=\"https://colab.research.google.com/assets/colab-badge.svg\" alt=\"Open In Colab\"/></a>"
      ]
    },
    {
      "source": [
        "\n",
        "# IMPORTANT: RUN THIS CELL IN ORDER TO IMPORT YOUR KAGGLE DATA SOURCES\n",
        "# TO THE CORRECT LOCATION (/kaggle/input) IN YOUR NOTEBOOK,\n",
        "# THEN FEEL FREE TO DELETE THIS CELL.\n",
        "# NOTE: THIS NOTEBOOK ENVIRONMENT DIFFERS FROM KAGGLE'S PYTHON\n",
        "# ENVIRONMENT SO THERE MAY BE MISSING LIBRARIES USED BY YOUR\n",
        "# NOTEBOOK.\n",
        "\n",
        "import os\n",
        "import sys\n",
        "from tempfile import NamedTemporaryFile\n",
        "from urllib.request import urlopen\n",
        "from urllib.parse import unquote, urlparse\n",
        "from urllib.error import HTTPError\n",
        "from zipfile import ZipFile\n",
        "import tarfile\n",
        "import shutil\n",
        "\n",
        "CHUNK_SIZE = 40960\n",
        "DATA_SOURCE_MAPPING = 'stock-market-dataset:https%3A%2F%2Fstorage.googleapis.com%2Fkaggle-data-sets%2F541298%2F1054465%2Fbundle%2Farchive.zip%3FX-Goog-Algorithm%3DGOOG4-RSA-SHA256%26X-Goog-Credential%3Dgcp-kaggle-com%2540kaggle-161607.iam.gserviceaccount.com%252F20240507%252Fauto%252Fstorage%252Fgoog4_request%26X-Goog-Date%3D20240507T115054Z%26X-Goog-Expires%3D259200%26X-Goog-SignedHeaders%3Dhost%26X-Goog-Signature%3D432c1a80ec8e8ba125ad89f598763f2165edf62cd8420c17ea9f91f58fe9ac9aaee5afbbe114bdb9e0cc0d1e378632596c8d358375cdce06449db134a48b8029cc325cb729b10b9a9564fd046efeb0c52c60ce9bf05c02fded63c3727ac1d8b9b9114f6656c39ba20c9bd25fa7fdba4f9f4beca2e96dff70c6b4fc2e03e483746086fdf166e4b51d49c4cdcd617addf2e1d302c61855187be05dd90c9a77cc3270087f51f925af12d1487135ba6091b4ffa85bf34574dca87a15b7e24ebf0c3a52e3081841472c00a74f9e29ab8fb725b392a88ec0bcf5e50dc01f607d6a5a0c6df645d983361d4bb2292e361494379071ce66eb9a2e7fd75c1e5a4e9feabaec'\n",
        "\n",
        "KAGGLE_INPUT_PATH='/kaggle/input'\n",
        "KAGGLE_WORKING_PATH='/kaggle/working'\n",
        "KAGGLE_SYMLINK='kaggle'\n",
        "\n",
        "!umount /kaggle/input/ 2> /dev/null\n",
        "shutil.rmtree('/kaggle/input', ignore_errors=True)\n",
        "os.makedirs(KAGGLE_INPUT_PATH, 0o777, exist_ok=True)\n",
        "os.makedirs(KAGGLE_WORKING_PATH, 0o777, exist_ok=True)\n",
        "\n",
        "try:\n",
        "  os.symlink(KAGGLE_INPUT_PATH, os.path.join(\"..\", 'input'), target_is_directory=True)\n",
        "except FileExistsError:\n",
        "  pass\n",
        "try:\n",
        "  os.symlink(KAGGLE_WORKING_PATH, os.path.join(\"..\", 'working'), target_is_directory=True)\n",
        "except FileExistsError:\n",
        "  pass\n",
        "\n",
        "for data_source_mapping in DATA_SOURCE_MAPPING.split(','):\n",
        "    directory, download_url_encoded = data_source_mapping.split(':')\n",
        "    download_url = unquote(download_url_encoded)\n",
        "    filename = urlparse(download_url).path\n",
        "    destination_path = os.path.join(KAGGLE_INPUT_PATH, directory)\n",
        "    try:\n",
        "        with urlopen(download_url) as fileres, NamedTemporaryFile() as tfile:\n",
        "            total_length = fileres.headers['content-length']\n",
        "            print(f'Downloading {directory}, {total_length} bytes compressed')\n",
        "            dl = 0\n",
        "            data = fileres.read(CHUNK_SIZE)\n",
        "            while len(data) > 0:\n",
        "                dl += len(data)\n",
        "                tfile.write(data)\n",
        "                done = int(50 * dl / int(total_length))\n",
        "                sys.stdout.write(f\"\\r[{'=' * done}{' ' * (50-done)}] {dl} bytes downloaded\")\n",
        "                sys.stdout.flush()\n",
        "                data = fileres.read(CHUNK_SIZE)\n",
        "            if filename.endswith('.zip'):\n",
        "              with ZipFile(tfile) as zfile:\n",
        "                zfile.extractall(destination_path)\n",
        "            else:\n",
        "              with tarfile.open(tfile.name) as tarfile:\n",
        "                tarfile.extractall(destination_path)\n",
        "            print(f'\\nDownloaded and uncompressed: {directory}')\n",
        "    except HTTPError as e:\n",
        "        print(f'Failed to load (likely expired) {download_url} to path {destination_path}')\n",
        "        continue\n",
        "    except OSError as e:\n",
        "        print(f'Failed to load {download_url} to path {destination_path}')\n",
        "        continue\n",
        "\n",
        "print('Data source import complete.')\n"
      ],
      "metadata": {
        "colab": {
          "base_uri": "https://localhost:8080/"
        },
        "id": "eaKiUlaP5HiZ",
        "outputId": "c7aecaaa-4350-46a4-9c44-de3fb6635c42"
      },
      "cell_type": "code",
      "outputs": [
        {
          "output_type": "stream",
          "name": "stdout",
          "text": [
            "Downloading stock-market-dataset, 547714524 bytes compressed\n",
            "[==================================================] 547714524 bytes downloaded\n",
            "Downloaded and uncompressed: stock-market-dataset\n",
            "Data source import complete.\n"
          ]
        }
      ],
      "execution_count": 1
    },
    {
      "cell_type": "code",
      "source": [
        "# This Python 3 environment comes with many helpful analytics libraries installed\n",
        "# It is defined by the kaggle/python Docker image: https://github.com/kaggle/docker-python\n",
        "# For example, here's several helpful packages to load\n",
        "\n",
        "import numpy as np # linear algebra\n",
        "import pandas as pd # data processing, CSV file I/O (e.g. pd.read_csv)\n",
        "import xgboost as xgb #linear regression algorithm\n",
        "import matplotlib.pyplot as plt #plotting result\n",
        "import os\n",
        "import glob\n",
        "\n",
        "def get_df(f):\n",
        "    data = pd.read_csv(f)\n",
        "    data['Symbol'] = os.path.basename(f).split('.')[0]\n",
        "    return data\n",
        "\n",
        "file_list = '/kaggle/input/stock-market-dataset/etfs'\n",
        "mypath = file_list + \"/**/*\"\n",
        "path_list = glob.glob(mypath, recursive = True)\n",
        "if '/kaggle/input/stock-market-dataset/symbols_valid_meta.csv' in path_list:\n",
        "    path_list.remove('/kaggle/input/stock-market-dataset/symbols_valid_meta.csv')\n",
        "\n",
        "directory_list = [a for a in path_list if os.path.isdir(a)]\n",
        "# files_list contains required files\n",
        "files_list = [a for a in path_list if os.path.isfile(a)]\n",
        "\n",
        "\n",
        "#data = pd.read_csv('/kaggle/input/stock-market-dataset/etfs/AAAU.csv')\n",
        "#data\n",
        "#print(symbols_files_list)\n",
        "data = pd.concat((get_df(f) for f in files_list), ignore_index = True)\n",
        "#cleanup\n",
        "data = data.dropna()\n",
        "# data = data.drop(data[data.Open > 1e6].index)\n",
        "# data = data.drop(data[data.Volume > 1e6].index)\n",
        "data\n",
        "print(np.isnan(data['Open']).any())\n",
        "print(np.isnan(data['Volume']).any())\n",
        "print(np.isinf(data['Close']).any())\n",
        "# You can write up to 20GB to the current directory (/kaggle/working/) that gets preserved as output when you create a version using \"Save & Run All\"\n",
        "# You can also write temporary files to /kaggle/temp/, but they won't be saved outside of the current session"
      ],
      "metadata": {
        "_uuid": "8f2839f25d086af736a60e9eeb907d3b93b6e0e5",
        "_cell_guid": "b1076dfc-b9ad-4769-8c92-a6c4dae69d19",
        "execution": {
          "iopub.status.busy": "2024-05-07T11:37:31.749853Z",
          "iopub.execute_input": "2024-05-07T11:37:31.75027Z",
          "iopub.status.idle": "2024-05-07T11:37:32.416872Z",
          "shell.execute_reply.started": "2024-05-07T11:37:31.750237Z",
          "shell.execute_reply": "2024-05-07T11:37:32.415621Z"
        },
        "trusted": true,
        "colab": {
          "base_uri": "https://localhost:8080/"
        },
        "id": "Y6hBwgj25Hia",
        "outputId": "3f3641da-f450-4e03-8aad-4d0b6e54e30f"
      },
      "execution_count": 127,
      "outputs": [
        {
          "output_type": "stream",
          "name": "stdout",
          "text": [
            "False\n",
            "False\n",
            "False\n"
          ]
        }
      ]
    },
    {
      "cell_type": "code",
      "source": [
        "#representing data visually\n",
        "data['Close'].plot()"
      ],
      "metadata": {
        "execution": {
          "iopub.status.busy": "2024-05-07T11:37:32.418793Z",
          "iopub.execute_input": "2024-05-07T11:37:32.419256Z",
          "iopub.status.idle": "2024-05-07T11:37:32.887184Z",
          "shell.execute_reply.started": "2024-05-07T11:37:32.419226Z",
          "shell.execute_reply": "2024-05-07T11:37:32.885895Z"
        },
        "trusted": true,
        "colab": {
          "base_uri": "https://localhost:8080/",
          "height": 719
        },
        "id": "9JpvNJge5Hib",
        "outputId": "d41dfa0b-5095-468f-93ac-4551dd468135"
      },
      "execution_count": 123,
      "outputs": [
        {
          "output_type": "execute_result",
          "data": {
            "text/plain": [
              "<Axes: >"
            ]
          },
          "metadata": {},
          "execution_count": 123
        },
        {
          "output_type": "display_data",
          "data": {
            "text/plain": [
              "<Figure size 1400x700 with 1 Axes>"
            ],
            "image/png": "[encoded data removed]"
          },
          "metadata": {}
        }
      ]
    },
    {
      "cell_type": "code",
      "source": [
        "\n",
        "data['Date_as_datetime'] = pd.to_datetime(data['Date'])\n",
        "\n",
        "def number_of_days(date_1, date_2):\n",
        "    return ((date_2 - date_1).astype(int)/(864*1e11)).astype(int)\n",
        "\n",
        "date_1 =  min(data['Date_as_datetime'])\n",
        "date_2 =  data['Date_as_datetime']\n",
        "#print(number_of_days(date_1, date_2))\n",
        "\n",
        "data['Days'] = number_of_days(date_1, data['Date_as_datetime'])\n",
        "data['Symbol'] = data['Symbol'].astype(\"category\")\n",
        "data = data.reindex(columns=['Date', 'Open', 'High', 'Low', 'Close', 'Adj Close', 'Volume', 'Symbol', 'Days'])\n",
        "print(data.head)\n"
      ],
      "metadata": {
        "execution": {
          "iopub.status.busy": "2024-05-07T11:37:32.898778Z",
          "iopub.execute_input": "2024-05-07T11:37:32.899132Z",
          "iopub.status.idle": "2024-05-07T11:37:32.910749Z",
          "shell.execute_reply.started": "2024-05-07T11:37:32.899103Z",
          "shell.execute_reply": "2024-05-07T11:37:32.9096Z"
        },
        "trusted": true,
        "colab": {
          "base_uri": "https://localhost:8080/"
        },
        "id": "Lwir2YYv5Hib",
        "outputId": "a8f3db83-9831-47dc-80a2-ac41aef550dc"
      },
      "execution_count": 129,
      "outputs": [
        {
          "output_type": "stream",
          "name": "stdout",
          "text": [
            "<bound method NDFrame.head of                Date       Open       High        Low      Close  Adj Close  \\\n",
            "0        1998-12-22  20.781250  20.828125  20.750000  20.828125  12.881685   \n",
            "1        1998-12-23  20.968750  21.140625  20.968750  21.046875  13.016976   \n",
            "2        1998-12-24  21.296875  21.531250  21.203125  21.531250  13.316548   \n",
            "3        1998-12-28  21.500000  21.500000  21.312500  21.343750  13.200579   \n",
            "4        1998-12-29  21.734375  21.734375  21.734375  21.734375  13.442181   \n",
            "...             ...        ...        ...        ...        ...        ...   \n",
            "3954311  2020-03-26  27.610001  29.030001  27.610001  29.010000  29.010000   \n",
            "3954312  2020-03-27  28.090000  28.840000  27.719999  28.129999  28.129999   \n",
            "3954313  2020-03-30  28.160000  28.820000  27.760000  28.820000  28.820000   \n",
            "3954314  2020-03-31  28.760000  29.000000  28.190001  28.389999  28.389999   \n",
            "3954315  2020-04-01  27.150000  27.420000  26.620001  26.700001  26.700001   \n",
            "\n",
            "          Volume Symbol Date_as_datetime   Days  \n",
            "0         1900.0    XLB       1998-12-22   4646  \n",
            "1          700.0    XLB       1998-12-23   4647  \n",
            "2         1500.0    XLB       1998-12-24   4648  \n",
            "3         2500.0    XLB       1998-12-28   4652  \n",
            "4          100.0    XLB       1998-12-29   4653  \n",
            "...          ...    ...              ...    ...  \n",
            "3954311  34300.0   KNOW       2020-03-26  12411  \n",
            "3954312  62700.0   KNOW       2020-03-27  12412  \n",
            "3954313  16400.0   KNOW       2020-03-30  12415  \n",
            "3954314  16800.0   KNOW       2020-03-31  12416  \n",
            "3954315  30200.0   KNOW       2020-04-01  12417  \n",
            "\n",
            "[3954282 rows x 10 columns]>\n"
          ]
        }
      ]
    },
    {
      "cell_type": "code",
      "source": [
        "#splitting the data into Training and Testing Data\n",
        "data = data.sample(frac=1).reset_index(drop=True)\n",
        "training_ratio = 0.8\n",
        "train_data = data.iloc[:int(training_ratio*len(data)), :]\n",
        "test_data = data.iloc[int(training_ratio*len(data)):, :]"
      ],
      "metadata": {
        "execution": {
          "iopub.status.busy": "2024-05-07T11:37:32.888409Z",
          "iopub.execute_input": "2024-05-07T11:37:32.888767Z",
          "iopub.status.idle": "2024-05-07T11:37:32.896254Z",
          "shell.execute_reply.started": "2024-05-07T11:37:32.888739Z",
          "shell.execute_reply": "2024-05-07T11:37:32.89495Z"
        },
        "trusted": true,
        "id": "NdzfFib-5Hib"
      },
      "execution_count": 148,
      "outputs": []
    },
    {
      "cell_type": "code",
      "source": [
        "#Defining the features and target variable\n",
        "features = ['Open', 'Volume', 'Days', 'Symbol']\n",
        "target = 'Close'"
      ],
      "metadata": {
        "execution": {
          "iopub.status.busy": "2024-05-07T11:37:32.912075Z",
          "iopub.execute_input": "2024-05-07T11:37:32.912429Z",
          "iopub.status.idle": "2024-05-07T11:37:32.923424Z",
          "shell.execute_reply.started": "2024-05-07T11:37:32.9124Z",
          "shell.execute_reply": "2024-05-07T11:37:32.922393Z"
        },
        "trusted": true,
        "id": "EDC-4uhE5Hib"
      },
      "execution_count": 154,
      "outputs": []
    },
    {
      "cell_type": "code",
      "source": [
        "#creating and training the model\n",
        "from sklearn.preprocessing import StandardScaler\n",
        "model = xgb.XGBRegressor(enable_categorical = True)\n",
        "'''\n",
        "scaler = StandardScaler()\n",
        "train_data_scaled = scaler.fit_transform(train_data[features])\n",
        "model.fit(train_data_scaled, train_data[target])\n",
        "'''\n",
        "model.fit(train_data[features], train_data[target])"
      ],
      "metadata": {
        "execution": {
          "iopub.status.busy": "2024-05-07T11:37:32.924685Z",
          "iopub.execute_input": "2024-05-07T11:37:32.924979Z",
          "iopub.status.idle": "2024-05-07T11:37:33.28222Z",
          "shell.execute_reply.started": "2024-05-07T11:37:32.924955Z",
          "shell.execute_reply": "2024-05-07T11:37:33.281413Z"
        },
        "trusted": true,
        "colab": {
          "base_uri": "https://localhost:8080/",
          "height": 248
        },
        "id": "XquCAi6a5Hic",
        "outputId": "6de75513-9ac8-4fe3-9951-62875260d94e"
      },
      "execution_count": 155,
      "outputs": [
        {
          "output_type": "execute_result",
          "data": {
            "text/plain": [
              "XGBRegressor(base_score=None, booster=None, callbacks=None,\n",
              "             colsample_bylevel=None, colsample_bynode=None,\n",
              "             colsample_bytree=None, device=None, early_stopping_rounds=None,\n",
              "             enable_categorical=True, eval_metric=None, feature_types=None,\n",
              "             gamma=None, grow_policy=None, importance_type=None,\n",
              "             interaction_constraints=None, learning_rate=None, max_bin=None,\n",
              "             max_cat_threshold=None, max_cat_to_onehot=None,\n",
              "             max_delta_step=None, max_depth=None, max_leaves=None,\n",
              "             min_child_weight=None, missing=nan, monotone_constraints=None,\n",
              "             multi_strategy=None, n_estimators=None, n_jobs=None,\n",
              "             num_parallel_tree=None, random_state=None, ...)"
            ],
            "text/html": [
              "<style>#sk-container-id-12 {color: black;background-color: white;}#sk-container-id-12 pre{padding: 0;}#sk-container-id-12 div.sk-toggleable {background-color: white;}#sk-container-id-12 label.sk-toggleable__label {cursor: pointer;display: block;width: 100%;margin-bottom: 0;padding: 0.3em;box-sizing: border-box;text-align: center;}#sk-container-id-12 label.sk-toggleable__label-arrow:before {content: \"▸\";float: left;margin-right: 0.25em;color: #696969;}#sk-container-id-12 label.sk-toggleable__label-arrow:hover:before {color: black;}#sk-container-id-12 div.sk-estimator:hover label.sk-toggleable__label-arrow:before {color: black;}#sk-container-id-12 div.sk-toggleable__content {max-height: 0;max-width: 0;overflow: hidden;text-align: left;background-color: #f0f8ff;}#sk-container-id-12 div.sk-toggleable__content pre {margin: 0.2em;color: black;border-radius: 0.25em;background-color: #f0f8ff;}#sk-container-id-12 input.sk-toggleable__control:checked~div.sk-toggleable__content {max-height: 200px;max-width: 100%;overflow: auto;}#sk-container-id-12 input.sk-toggleable__control:checked~label.sk-toggleable__label-arrow:before {content: \"▾\";}#sk-container-id-12 div.sk-estimator input.sk-toggleable__control:checked~label.sk-toggleable__label {background-color: #d4ebff;}#sk-container-id-12 div.sk-label input.sk-toggleable__control:checked~label.sk-toggleable__label {background-color: #d4ebff;}#sk-container-id-12 input.sk-hidden--visually {border: 0;clip: rect(1px 1px 1px 1px);clip: rect(1px, 1px, 1px, 1px);height: 1px;margin: -1px;overflow: hidden;padding: 0;position: absolute;width: 1px;}#sk-container-id-12 div.sk-estimator {font-family: monospace;background-color: #f0f8ff;border: 1px dotted black;border-radius: 0.25em;box-sizing: border-box;margin-bottom: 0.5em;}#sk-container-id-12 div.sk-estimator:hover {background-color: #d4ebff;}#sk-container-id-12 div.sk-parallel-item::after {content: \"\";width: 100%;border-bottom: 1px solid gray;flex-grow: 1;}#sk-container-id-12 div.sk-label:hover label.sk-toggleable__label {background-color: #d4ebff;}#sk-container-id-12 div.sk-serial::before {content: \"\";position: absolute;border-left: 1px solid gray;box-sizing: border-box;top: 0;bottom: 0;left: 50%;z-index: 0;}#sk-container-id-12 div.sk-serial {display: flex;flex-direction: column;align-items: center;background-color: white;padding-right: 0.2em;padding-left: 0.2em;position: relative;}#sk-container-id-12 div.sk-item {position: relative;z-index: 1;}#sk-container-id-12 div.sk-parallel {display: flex;align-items: stretch;justify-content: center;background-color: white;position: relative;}#sk-container-id-12 div.sk-item::before, #sk-container-id-12 div.sk-parallel-item::before {content: \"\";position: absolute;border-left: 1px solid gray;box-sizing: border-box;top: 0;bottom: 0;left: 50%;z-index: -1;}#sk-container-id-12 div.sk-parallel-item {display: flex;flex-direction: column;z-index: 1;position: relative;background-color: white;}#sk-container-id-12 div.sk-parallel-item:first-child::after {align-self: flex-end;width: 50%;}#sk-container-id-12 div.sk-parallel-item:last-child::after {align-self: flex-start;width: 50%;}#sk-container-id-12 div.sk-parallel-item:only-child::after {width: 0;}#sk-container-id-12 div.sk-dashed-wrapped {border: 1px dashed gray;margin: 0 0.4em 0.5em 0.4em;box-sizing: border-box;padding-bottom: 0.4em;background-color: white;}#sk-container-id-12 div.sk-label label {font-family: monospace;font-weight: bold;display: inline-block;line-height: 1.2em;}#sk-container-id-12 div.sk-label-container {text-align: center;}#sk-container-id-12 div.sk-container {/* jupyter's `normalize.less` sets `[hidden] { display: none; }` but bootstrap.min.css set `[hidden] { display: none !important; }` so we also need the `!important` here to be able to override the default hidden behavior on the sphinx rendered scikit-learn.org. See: https://github.com/scikit-learn/scikit-learn/issues/21755 */display: inline-block !important;position: relative;}#sk-container-id-12 div.sk-text-repr-fallback {display: none;}</style><div id=\"sk-container-id-12\" class=\"sk-top-container\"><div class=\"sk-text-repr-fallback\"><pre>XGBRegressor(base_score=None, booster=None, callbacks=None,\n",
              "             colsample_bylevel=None, colsample_bynode=None,\n",
              "             colsample_bytree=None, device=None, early_stopping_rounds=None,\n",
              "             enable_categorical=True, eval_metric=None, feature_types=None,\n",
              "             gamma=None, grow_policy=None, importance_type=None,\n",
              "             interaction_constraints=None, learning_rate=None, max_bin=None,\n",
              "             max_cat_threshold=None, max_cat_to_onehot=None,\n",
              "             max_delta_step=None, max_depth=None, max_leaves=None,\n",
              "             min_child_weight=None, missing=nan, monotone_constraints=None,\n",
              "             multi_strategy=None, n_estimators=None, n_jobs=None,\n",
              "             num_parallel_tree=None, random_state=None, ...)</pre><b>In a Jupyter environment, please rerun this cell to show the HTML representation or trust the notebook. <br />On GitHub, the HTML representation is unable to render, please try loading this page with nbviewer.org.</b></div><div class=\"sk-container\" hidden><div class=\"sk-item\"><div class=\"sk-estimator sk-toggleable\"><input class=\"sk-toggleable__control sk-hidden--visually\" id=\"sk-estimator-id-12\" type=\"checkbox\" checked><label for=\"sk-estimator-id-12\" class=\"sk-toggleable__label sk-toggleable__label-arrow\">XGBRegressor</label><div class=\"sk-toggleable__content\"><pre>XGBRegressor(base_score=None, booster=None, callbacks=None,\n",
              "             colsample_bylevel=None, colsample_bynode=None,\n",
              "             colsample_bytree=None, device=None, early_stopping_rounds=None,\n",
              "             enable_categorical=True, eval_metric=None, feature_types=None,\n",
              "             gamma=None, grow_policy=None, importance_type=None,\n",
              "             interaction_constraints=None, learning_rate=None, max_bin=None,\n",
              "             max_cat_threshold=None, max_cat_to_onehot=None,\n",
              "             max_delta_step=None, max_depth=None, max_leaves=None,\n",
              "             min_child_weight=None, missing=nan, monotone_constraints=None,\n",
              "             multi_strategy=None, n_estimators=None, n_jobs=None,\n",
              "             num_parallel_tree=None, random_state=None, ...)</pre></div></div></div></div></div>"
            ]
          },
          "metadata": {},
          "execution_count": 155
        }
      ]
    },
    {
      "cell_type": "code",
      "source": [
        "#making and showing the predictions on the testing data\n",
        "predictions = model.predict(test_data[features])\n",
        "print('Model Predictions:')\n",
        "print(predictions)"
      ],
      "metadata": {
        "execution": {
          "iopub.status.busy": "2024-05-07T11:37:33.283414Z",
          "iopub.execute_input": "2024-05-07T11:37:33.283919Z",
          "iopub.status.idle": "2024-05-07T11:37:33.329102Z",
          "shell.execute_reply.started": "2024-05-07T11:37:33.28389Z",
          "shell.execute_reply": "2024-05-07T11:37:33.328201Z"
        },
        "trusted": true,
        "colab": {
          "base_uri": "https://localhost:8080/"
        },
        "id": "efvg4iuj5Hic",
        "outputId": "8e67d38f-bead-482e-83df-bb7dd437e55c"
      },
      "execution_count": 156,
      "outputs": [
        {
          "output_type": "stream",
          "name": "stdout",
          "text": [
            "Model Predictions:\n",
            "[ 55.807625  58.0188    23.772913 ...  25.075035  25.075035 101.26559 ]\n"
          ]
        }
      ]
    },
    {
      "cell_type": "code",
      "source": [
        "#Showing the actual values\n",
        "print('Actual Values:')\n",
        "print(test_data[target])"
      ],
      "metadata": {
        "execution": {
          "iopub.status.busy": "2024-05-07T11:37:33.330558Z",
          "iopub.execute_input": "2024-05-07T11:37:33.331225Z",
          "iopub.status.idle": "2024-05-07T11:37:33.338876Z",
          "shell.execute_reply.started": "2024-05-07T11:37:33.331191Z",
          "shell.execute_reply": "2024-05-07T11:37:33.337808Z"
        },
        "trusted": true,
        "colab": {
          "base_uri": "https://localhost:8080/"
        },
        "id": "3dB_twhY5Hic",
        "outputId": "8298a220-b37e-45c4-c069-772ccf2d4b32"
      },
      "execution_count": 157,
      "outputs": [
        {
          "output_type": "stream",
          "name": "stdout",
          "text": [
            "Actual Values:\n",
            "3163425    54.139999\n",
            "3163426    59.549999\n",
            "3163427    22.520000\n",
            "3163428    94.699997\n",
            "3163429    47.080002\n",
            "             ...    \n",
            "3954277    29.049999\n",
            "3954278    69.870003\n",
            "3954279    25.021999\n",
            "3954280    24.860001\n",
            "3954281    99.269997\n",
            "Name: Close, Length: 790857, dtype: float64\n"
          ]
        }
      ]
    },
    {
      "cell_type": "code",
      "source": [
        "#Accuracy of the model\n",
        "accuracy = model.score(test_data[features], test_data[target])\n",
        "print('accuracy:')\n",
        "print(accuracy)"
      ],
      "metadata": {
        "execution": {
          "iopub.status.busy": "2024-05-07T11:37:33.340415Z",
          "iopub.execute_input": "2024-05-07T11:37:33.341309Z",
          "iopub.status.idle": "2024-05-07T11:37:33.390959Z",
          "shell.execute_reply.started": "2024-05-07T11:37:33.341275Z",
          "shell.execute_reply": "2024-05-07T11:37:33.390116Z"
        },
        "trusted": true,
        "colab": {
          "base_uri": "https://localhost:8080/"
        },
        "id": "ID1wYKrG5Hic",
        "outputId": "38dd1ad6-7821-450c-f86c-3b563b9d37a4"
      },
      "execution_count": 158,
      "outputs": [
        {
          "output_type": "stream",
          "name": "stdout",
          "text": [
            "accuracy:\n",
            "0.963445920797098\n"
          ]
        }
      ]
    },
    {
      "cell_type": "code",
      "source": [
        "#plotting the predictions and the close price\n",
        "plt.rcParams[\"figure.figsize\"] = [10.00, 5.00]\n",
        "plt.rcParams[\"figure.autolayout\"] = True\n",
        "plt.rcParams[\"figure.dpi\"] = 140\n",
        "plt.plot(data['Close'], label = 'Close Price')\n",
        "plt.plot(test_data[target].index, predictions, label = 'Predictions')\n",
        "plt.legend()\n",
        "plt.show()\n"
      ],
      "metadata": {
        "execution": {
          "iopub.status.busy": "2024-05-07T11:37:33.393794Z",
          "iopub.execute_input": "2024-05-07T11:37:33.394519Z",
          "iopub.status.idle": "2024-05-07T11:37:33.967765Z",
          "shell.execute_reply.started": "2024-05-07T11:37:33.394483Z",
          "shell.execute_reply": "2024-05-07T11:37:33.966901Z"
        },
        "trusted": true,
        "colab": {
          "base_uri": "https://localhost:8080/",
          "height": 702
        },
        "id": "o_FSfTXd5Hic",
        "outputId": "32a26d7b-5e25-415b-9122-966845da4de8"
      },
      "execution_count": 159,
      "outputs": [
        {
          "output_type": "display_data",
          "data": {
            "text/plain": [
              "<Figure size 1400x700 with 1 Axes>"
            ],
            "image/png": "[encoded data removed]"
          },
          "metadata": {}
        }
      ]
    }
  ]
}