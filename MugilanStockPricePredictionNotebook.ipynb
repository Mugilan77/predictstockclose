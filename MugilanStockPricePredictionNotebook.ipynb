{
  "metadata": {
    "kernelspec": {
      "language": "python",
      "display_name": "Python 3",
      "name": "python3"
    },
    "language_info": {
      "name": "python",
      "version": "3.10.13",
      "mimetype": "text/x-python",
      "codemirror_mode": {
        "name": "ipython",
        "version": 3
      },
      "pygments_lexer": "ipython3",
      "nbconvert_exporter": "python",
      "file_extension": ".py"
    },
    "kaggle": {
      "accelerator": "none",
      "dataSources": [
        {
          "sourceId": 1054465,
          "sourceType": "datasetVersion",
          "datasetId": 541298
        }
      ],
      "dockerImageVersionId": 30698,
      "isInternetEnabled": false,
      "language": "python",
      "sourceType": "notebook",
      "isGpuEnabled": false
    },
    "colab": {
      "name": "MugilanStockPricePredictionNotebook",
      "provenance": [],
      "include_colab_link": true
    }
  },
  "nbformat_minor": 0,
  "nbformat": 4,
  "cells": [
    {
      "cell_type": "markdown",
      "metadata": {
        "id": "view-in-github",
        "colab_type": "text"
      },
      "source": [
        "<a href=\"https://colab.research.google.com/github/Mugilan77/predictstockclose/blob/main/MugilanStockPricePredictionNotebook.ipynb\" target=\"_parent\"><img src=\"https://colab.research.google.com/assets/colab-badge.svg\" alt=\"Open In Colab\"/></a>"
      ]
    },
    {
      "source": [
        "\n",
        "# IMPORTANT: RUN THIS CELL IN ORDER TO IMPORT YOUR KAGGLE DATA SOURCES\n",
        "# TO THE CORRECT LOCATION (/kaggle/input) IN YOUR NOTEBOOK,\n",
        "# THEN FEEL FREE TO DELETE THIS CELL.\n",
        "# NOTE: THIS NOTEBOOK ENVIRONMENT DIFFERS FROM KAGGLE'S PYTHON\n",
        "# ENVIRONMENT SO THERE MAY BE MISSING LIBRARIES USED BY YOUR\n",
        "# NOTEBOOK.\n",
        "\n",
        "import os\n",
        "import sys\n",
        "from tempfile import NamedTemporaryFile\n",
        "from urllib.request import urlopen\n",
        "from urllib.parse import unquote, urlparse\n",
        "from urllib.error import HTTPError\n",
        "from zipfile import ZipFile\n",
        "import tarfile\n",
        "import shutil\n",
        "\n",
        "CHUNK_SIZE = 40960\n",
        "DATA_SOURCE_MAPPING = 'stock-market-dataset:https%3A%2F%2Fstorage.googleapis.com%2Fkaggle-data-sets%2F541298%2F1054465%2Fbundle%2Farchive.zip%3FX-Goog-Algorithm%3DGOOG4-RSA-SHA256%26X-Goog-Credential%3Dgcp-kaggle-com%2540kaggle-161607.iam.gserviceaccount.com%252F20240507%252Fauto%252Fstorage%252Fgoog4_request%26X-Goog-Date%3D20240507T115054Z%26X-Goog-Expires%3D259200%26X-Goog-SignedHeaders%3Dhost%26X-Goog-Signature%3D432c1a80ec8e8ba125ad89f598763f2165edf62cd8420c17ea9f91f58fe9ac9aaee5afbbe114bdb9e0cc0d1e378632596c8d358375cdce06449db134a48b8029cc325cb729b10b9a9564fd046efeb0c52c60ce9bf05c02fded63c3727ac1d8b9b9114f6656c39ba20c9bd25fa7fdba4f9f4beca2e96dff70c6b4fc2e03e483746086fdf166e4b51d49c4cdcd617addf2e1d302c61855187be05dd90c9a77cc3270087f51f925af12d1487135ba6091b4ffa85bf34574dca87a15b7e24ebf0c3a52e3081841472c00a74f9e29ab8fb725b392a88ec0bcf5e50dc01f607d6a5a0c6df645d983361d4bb2292e361494379071ce66eb9a2e7fd75c1e5a4e9feabaec'\n",
        "\n",
        "KAGGLE_INPUT_PATH='/kaggle/input'\n",
        "KAGGLE_WORKING_PATH='/kaggle/working'\n",
        "KAGGLE_SYMLINK='kaggle'\n",
        "\n",
        "!umount /kaggle/input/ 2> /dev/null\n",
        "shutil.rmtree('/kaggle/input', ignore_errors=True)\n",
        "os.makedirs(KAGGLE_INPUT_PATH, 0o777, exist_ok=True)\n",
        "os.makedirs(KAGGLE_WORKING_PATH, 0o777, exist_ok=True)\n",
        "\n",
        "try:\n",
        "  os.symlink(KAGGLE_INPUT_PATH, os.path.join(\"..\", 'input'), target_is_directory=True)\n",
        "except FileExistsError:\n",
        "  pass\n",
        "try:\n",
        "  os.symlink(KAGGLE_WORKING_PATH, os.path.join(\"..\", 'working'), target_is_directory=True)\n",
        "except FileExistsError:\n",
        "  pass\n",
        "\n",
        "for data_source_mapping in DATA_SOURCE_MAPPING.split(','):\n",
        "    directory, download_url_encoded = data_source_mapping.split(':')\n",
        "    download_url = unquote(download_url_encoded)\n",
        "    filename = urlparse(download_url).path\n",
        "    destination_path = os.path.join(KAGGLE_INPUT_PATH, directory)\n",
        "    try:\n",
        "        with urlopen(download_url) as fileres, NamedTemporaryFile() as tfile:\n",
        "            total_length = fileres.headers['content-length']\n",
        "            print(f'Downloading {directory}, {total_length} bytes compressed')\n",
        "            dl = 0\n",
        "            data = fileres.read(CHUNK_SIZE)\n",
        "            while len(data) > 0:\n",
        "                dl += len(data)\n",
        "                tfile.write(data)\n",
        "                done = int(50 * dl / int(total_length))\n",
        "                sys.stdout.write(f\"\\r[{'=' * done}{' ' * (50-done)}] {dl} bytes downloaded\")\n",
        "                sys.stdout.flush()\n",
        "                data = fileres.read(CHUNK_SIZE)\n",
        "            if filename.endswith('.zip'):\n",
        "              with ZipFile(tfile) as zfile:\n",
        "                zfile.extractall(destination_path)\n",
        "            else:\n",
        "              with tarfile.open(tfile.name) as tarfile:\n",
        "                tarfile.extractall(destination_path)\n",
        "            print(f'\\nDownloaded and uncompressed: {directory}')\n",
        "    except HTTPError as e:\n",
        "        print(f'Failed to load (likely expired) {download_url} to path {destination_path}')\n",
        "        continue\n",
        "    except OSError as e:\n",
        "        print(f'Failed to load {download_url} to path {destination_path}')\n",
        "        continue\n",
        "\n",
        "print('Data source import complete.')\n"
      ],
      "metadata": {
        "colab": {
          "base_uri": "https://localhost:8080/"
        },
        "id": "eaKiUlaP5HiZ",
        "outputId": "c7aecaaa-4350-46a4-9c44-de3fb6635c42"
      },
      "cell_type": "code",
      "outputs": [
        {
          "output_type": "stream",
          "name": "stdout",
          "text": [
            "Downloading stock-market-dataset, 547714524 bytes compressed\n",
            "[==================================================] 547714524 bytes downloaded\n",
            "Downloaded and uncompressed: stock-market-dataset\n",
            "Data source import complete.\n"
          ]
        }
      ],
      "execution_count": 1
    },
    {
      "cell_type": "code",
      "source": [
        "# This Python 3 environment comes with many helpful analytics libraries installed\n",
        "# It is defined by the kaggle/python Docker image: https://github.com/kaggle/docker-python\n",
        "# For example, here's several helpful packages to load\n",
        "\n",
        "import numpy as np # linear algebra\n",
        "import pandas as pd # data processing, CSV file I/O (e.g. pd.read_csv)\n",
        "import xgboost as xgb #linear regression algorithm\n",
        "import matplotlib.pyplot as plt #plotting result\n",
        "import os\n",
        "import glob\n",
        "\n",
        "def get_df(f):\n",
        "    data = pd.read_csv(f)\n",
        "    data['Symbol'] = os.path.basename(f).split('.')[0]\n",
        "    return data\n",
        "\n",
        "file_list = '/kaggle/input/stock-market-dataset/etfs'\n",
        "mypath = file_list + \"/**/*\"\n",
        "path_list = glob.glob(mypath, recursive = True)\n",
        "if '/kaggle/input/stock-market-dataset/symbols_valid_meta.csv' in path_list:\n",
        "    path_list.remove('/kaggle/input/stock-market-dataset/symbols_valid_meta.csv')\n",
        "\n",
        "directory_list = [a for a in path_list if os.path.isdir(a)]\n",
        "# files_list contains required files\n",
        "files_list = [a for a in path_list if os.path.isfile(a)]\n",
        "\n",
        "data = pd.concat((get_df(f) for f in files_list), ignore_index = True)\n",
        "#cleanup\n",
        "data = data.dropna()\n",
        "data\n",
        "# You can write up to 20GB to the current directory (/kaggle/working/) that gets preserved as output when you create a version using \"Save & Run All\"\n",
        "# You can also write temporary files to /kaggle/temp/, but they won't be saved outside of the current session"
      ],
      "metadata": {
        "_uuid": "8f2839f25d086af736a60e9eeb907d3b93b6e0e5",
        "_cell_guid": "b1076dfc-b9ad-4769-8c92-a6c4dae69d19",
        "execution": {
          "iopub.status.busy": "2024-05-07T11:37:31.749853Z",
          "iopub.execute_input": "2024-05-07T11:37:31.75027Z",
          "iopub.status.idle": "2024-05-07T11:37:32.416872Z",
          "shell.execute_reply.started": "2024-05-07T11:37:31.750237Z",
          "shell.execute_reply": "2024-05-07T11:37:32.415621Z"
        },
        "trusted": true,
        "colab": {
          "base_uri": "https://localhost:8080/",
          "height": 424
        },
        "id": "Y6hBwgj25Hia",
        "outputId": "2983cb3b-ed12-44d5-f23d-47d79324c53c"
      },
      "execution_count": 160,
      "outputs": [
        {
          "output_type": "execute_result",
          "data": {
            "text/plain": [
              "               Date       Open       High        Low      Close  Adj Close  \\\n",
              "0        1998-12-22  20.781250  20.828125  20.750000  20.828125  12.881685   \n",
              "1        1998-12-23  20.968750  21.140625  20.968750  21.046875  13.016976   \n",
              "2        1998-12-24  21.296875  21.531250  21.203125  21.531250  13.316548   \n",
              "3        1998-12-28  21.500000  21.500000  21.312500  21.343750  13.200579   \n",
              "4        1998-12-29  21.734375  21.734375  21.734375  21.734375  13.442181   \n",
              "...             ...        ...        ...        ...        ...        ...   \n",
              "3954311  2020-03-26  27.610001  29.030001  27.610001  29.010000  29.010000   \n",
              "3954312  2020-03-27  28.090000  28.840000  27.719999  28.129999  28.129999   \n",
              "3954313  2020-03-30  28.160000  28.820000  27.760000  28.820000  28.820000   \n",
              "3954314  2020-03-31  28.760000  29.000000  28.190001  28.389999  28.389999   \n",
              "3954315  2020-04-01  27.150000  27.420000  26.620001  26.700001  26.700001   \n",
              "\n",
              "          Volume Symbol  \n",
              "0         1900.0    XLB  \n",
              "1          700.0    XLB  \n",
              "2         1500.0    XLB  \n",
              "3         2500.0    XLB  \n",
              "4          100.0    XLB  \n",
              "...          ...    ...  \n",
              "3954311  34300.0   KNOW  \n",
              "3954312  62700.0   KNOW  \n",
              "3954313  16400.0   KNOW  \n",
              "3954314  16800.0   KNOW  \n",
              "3954315  30200.0   KNOW  \n",
              "\n",
              "[3954282 rows x 8 columns]"
            ],
            "text/html": [
              "\n",
              "  <div id=\"df-12ae7495-4032-41bb-a3ba-bb525ae6e3c0\" class=\"colab-df-container\">\n",
              "    <div>\n",
              "<style scoped>\n",
              "    .dataframe tbody tr th:only-of-type {\n",
              "        vertical-align: middle;\n",
              "    }\n",
              "\n",
              "    .dataframe tbody tr th {\n",
              "        vertical-align: top;\n",
              "    }\n",
              "\n",
              "    .dataframe thead th {\n",
              "        text-align: right;\n",
              "    }\n",
              "</style>\n",
              "<table border=\"1\" class=\"dataframe\">\n",
              "  <thead>\n",
              "    <tr style=\"text-align: right;\">\n",
              "      <th></th>\n",
              "      <th>Date</th>\n",
              "      <th>Open</th>\n",
              "      <th>High</th>\n",
              "      <th>Low</th>\n",
              "      <th>Close</th>\n",
              "      <th>Adj Close</th>\n",
              "      <th>Volume</th>\n",
              "      <th>Symbol</th>\n",
              "    </tr>\n",
              "  </thead>\n",
              "  <tbody>\n",
              "    <tr>\n",
              "      <th>0</th>\n",
              "      <td>1998-12-22</td>\n",
              "      <td>20.781250</td>\n",
              "      <td>20.828125</td>\n",
              "      <td>20.750000</td>\n",
              "      <td>20.828125</td>\n",
              "      <td>12.881685</td>\n",
              "      <td>1900.0</td>\n",
              "      <td>XLB</td>\n",
              "    </tr>\n",
              "    <tr>\n",
              "      <th>1</th>\n",
              "      <td>1998-12-23</td>\n",
              "      <td>20.968750</td>\n",
              "      <td>21.140625</td>\n",
              "      <td>20.968750</td>\n",
              "      <td>21.046875</td>\n",
              "      <td>13.016976</td>\n",
              "      <td>700.0</td>\n",
              "      <td>XLB</td>\n",
              "    </tr>\n",
              "    <tr>\n",
              "      <th>2</th>\n",
              "      <td>1998-12-24</td>\n",
              "      <td>21.296875</td>\n",
              "      <td>21.531250</td>\n",
              "      <td>21.203125</td>\n",
              "      <td>21.531250</td>\n",
              "      <td>13.316548</td>\n",
              "      <td>1500.0</td>\n",
              "      <td>XLB</td>\n",
              "    </tr>\n",
              "    <tr>\n",
              "      <th>3</th>\n",
              "      <td>1998-12-28</td>\n",
              "      <td>21.500000</td>\n",
              "      <td>21.500000</td>\n",
              "      <td>21.312500</td>\n",
              "      <td>21.343750</td>\n",
              "      <td>13.200579</td>\n",
              "      <td>2500.0</td>\n",
              "      <td>XLB</td>\n",
              "    </tr>\n",
              "    <tr>\n",
              "      <th>4</th>\n",
              "      <td>1998-12-29</td>\n",
              "      <td>21.734375</td>\n",
              "      <td>21.734375</td>\n",
              "      <td>21.734375</td>\n",
              "      <td>21.734375</td>\n",
              "      <td>13.442181</td>\n",
              "      <td>100.0</td>\n",
              "      <td>XLB</td>\n",
              "    </tr>\n",
              "    <tr>\n",
              "      <th>...</th>\n",
              "      <td>...</td>\n",
              "      <td>...</td>\n",
              "      <td>...</td>\n",
              "      <td>...</td>\n",
              "      <td>...</td>\n",
              "      <td>...</td>\n",
              "      <td>...</td>\n",
              "      <td>...</td>\n",
              "    </tr>\n",
              "    <tr>\n",
              "      <th>3954311</th>\n",
              "      <td>2020-03-26</td>\n",
              "      <td>27.610001</td>\n",
              "      <td>29.030001</td>\n",
              "      <td>27.610001</td>\n",
              "      <td>29.010000</td>\n",
              "      <td>29.010000</td>\n",
              "      <td>34300.0</td>\n",
              "      <td>KNOW</td>\n",
              "    </tr>\n",
              "    <tr>\n",
              "      <th>3954312</th>\n",
              "      <td>2020-03-27</td>\n",
              "      <td>28.090000</td>\n",
              "      <td>28.840000</td>\n",
              "      <td>27.719999</td>\n",
              "      <td>28.129999</td>\n",
              "      <td>28.129999</td>\n",
              "      <td>62700.0</td>\n",
              "      <td>KNOW</td>\n",
              "    </tr>\n",
              "    <tr>\n",
              "      <th>3954313</th>\n",
              "      <td>2020-03-30</td>\n",
              "      <td>28.160000</td>\n",
              "      <td>28.820000</td>\n",
              "      <td>27.760000</td>\n",
              "      <td>28.820000</td>\n",
              "      <td>28.820000</td>\n",
              "      <td>16400.0</td>\n",
              "      <td>KNOW</td>\n",
              "    </tr>\n",
              "    <tr>\n",
              "      <th>3954314</th>\n",
              "      <td>2020-03-31</td>\n",
              "      <td>28.760000</td>\n",
              "      <td>29.000000</td>\n",
              "      <td>28.190001</td>\n",
              "      <td>28.389999</td>\n",
              "      <td>28.389999</td>\n",
              "      <td>16800.0</td>\n",
              "      <td>KNOW</td>\n",
              "    </tr>\n",
              "    <tr>\n",
              "      <th>3954315</th>\n",
              "      <td>2020-04-01</td>\n",
              "      <td>27.150000</td>\n",
              "      <td>27.420000</td>\n",
              "      <td>26.620001</td>\n",
              "      <td>26.700001</td>\n",
              "      <td>26.700001</td>\n",
              "      <td>30200.0</td>\n",
              "      <td>KNOW</td>\n",
              "    </tr>\n",
              "  </tbody>\n",
              "</table>\n",
              "<p>3954282 rows × 8 columns</p>\n",
              "</div>\n",
              "    <div class=\"colab-df-buttons\">\n",
              "\n",
              "  <div class=\"colab-df-container\">\n",
              "    <button class=\"colab-df-convert\" onclick=\"convertToInteractive('df-12ae7495-4032-41bb-a3ba-bb525ae6e3c0')\"\n",
              "            title=\"Convert this dataframe to an interactive table.\"\n",
              "            style=\"display:none;\">\n",
              "\n",
              "  <svg xmlns=\"http://www.w3.org/2000/svg\" height=\"24px\" viewBox=\"0 -960 960 960\">\n",
              "    <path d=\"M120-120v-720h720v720H120Zm60-500h600v-160H180v160Zm220 220h160v-160H400v160Zm0 220h160v-160H400v160ZM180-400h160v-160H180v160Zm440 0h160v-160H620v160ZM180-180h160v-160H180v160Zm440 0h160v-160H620v160Z\"/>\n",
              "  </svg>\n",
              "    </button>\n",
              "\n",
              "  <style>\n",
              "    .colab-df-container {\n",
              "      display:flex;\n",
              "      gap: 12px;\n",
              "    }\n",
              "\n",
              "    .colab-df-convert {\n",
              "      background-color: #E8F0FE;\n",
              "      border: none;\n",
              "      border-radius: 50%;\n",
              "      cursor: pointer;\n",
              "      display: none;\n",
              "      fill: #1967D2;\n",
              "      height: 32px;\n",
              "      padding: 0 0 0 0;\n",
              "      width: 32px;\n",
              "    }\n",
              "\n",
              "    .colab-df-convert:hover {\n",
              "      background-color: #E2EBFA;\n",
              "      box-shadow: 0px 1px 2px rgba(60, 64, 67, 0.3), 0px 1px 3px 1px rgba(60, 64, 67, 0.15);\n",
              "      fill: #174EA6;\n",
              "    }\n",
              "\n",
              "    .colab-df-buttons div {\n",
              "      margin-bottom: 4px;\n",
              "    }\n",
              "\n",
              "    [theme=dark] .colab-df-convert {\n",
              "      background-color: #3B4455;\n",
              "      fill: #D2E3FC;\n",
              "    }\n",
              "\n",
              "    [theme=dark] .colab-df-convert:hover {\n",
              "      background-color: #434B5C;\n",
              "      box-shadow: 0px 1px 3px 1px rgba(0, 0, 0, 0.15);\n",
              "      filter: drop-shadow(0px 1px 2px rgba(0, 0, 0, 0.3));\n",
              "      fill: #FFFFFF;\n",
              "    }\n",
              "  </style>\n",
              "\n",
              "    <script>\n",
              "      const buttonEl =\n",
              "        document.querySelector('#df-12ae7495-4032-41bb-a3ba-bb525ae6e3c0 button.colab-df-convert');\n",
              "      buttonEl.style.display =\n",
              "        google.colab.kernel.accessAllowed ? 'block' : 'none';\n",
              "\n",
              "      async function convertToInteractive(key) {\n",
              "        const element = document.querySelector('#df-12ae7495-4032-41bb-a3ba-bb525ae6e3c0');\n",
              "        const dataTable =\n",
              "          await google.colab.kernel.invokeFunction('convertToInteractive',\n",
              "                                                    [key], {});\n",
              "        if (!dataTable) return;\n",
              "\n",
              "        const docLinkHtml = 'Like what you see? Visit the ' +\n",
              "          '<a target=\"_blank\" href=https://colab.research.google.com/notebooks/data_table.ipynb>data table notebook</a>'\n",
              "          + ' to learn more about interactive tables.';\n",
              "        element.innerHTML = '';\n",
              "        dataTable['output_type'] = 'display_data';\n",
              "        await google.colab.output.renderOutput(dataTable, element);\n",
              "        const docLink = document.createElement('div');\n",
              "        docLink.innerHTML = docLinkHtml;\n",
              "        element.appendChild(docLink);\n",
              "      }\n",
              "    </script>\n",
              "  </div>\n",
              "\n",
              "\n",
              "<div id=\"df-dc05fa7e-7c9c-4d1a-a7fe-09131cbb8557\">\n",
              "  <button class=\"colab-df-quickchart\" onclick=\"quickchart('df-dc05fa7e-7c9c-4d1a-a7fe-09131cbb8557')\"\n",
              "            title=\"Suggest charts\"\n",
              "            style=\"display:none;\">\n",
              "\n",
              "<svg xmlns=\"http://www.w3.org/2000/svg\" height=\"24px\"viewBox=\"0 0 24 24\"\n",
              "     width=\"24px\">\n",
              "    <g>\n",
              "        <path d=\"M19 3H5c-1.1 0-2 .9-2 2v14c0 1.1.9 2 2 2h14c1.1 0 2-.9 2-2V5c0-1.1-.9-2-2-2zM9 17H7v-7h2v7zm4 0h-2V7h2v10zm4 0h-2v-4h2v4z\"/>\n",
              "    </g>\n",
              "</svg>\n",
              "  </button>\n",
              "\n",
              "<style>\n",
              "  .colab-df-quickchart {\n",
              "      --bg-color: #E8F0FE;\n",
              "      --fill-color: #1967D2;\n",
              "      --hover-bg-color: #E2EBFA;\n",
              "      --hover-fill-color: #174EA6;\n",
              "      --disabled-fill-color: #AAA;\n",
              "      --disabled-bg-color: #DDD;\n",
              "  }\n",
              "\n",
              "  [theme=dark] .colab-df-quickchart {\n",
              "      --bg-color: #3B4455;\n",
              "      --fill-color: #D2E3FC;\n",
              "      --hover-bg-color: #434B5C;\n",
              "      --hover-fill-color: #FFFFFF;\n",
              "      --disabled-bg-color: #3B4455;\n",
              "      --disabled-fill-color: #666;\n",
              "  }\n",
              "\n",
              "  .colab-df-quickchart {\n",
              "    background-color: var(--bg-color);\n",
              "    border: none;\n",
              "    border-radius: 50%;\n",
              "    cursor: pointer;\n",
              "    display: none;\n",
              "    fill: var(--fill-color);\n",
              "    height: 32px;\n",
              "    padding: 0;\n",
              "    width: 32px;\n",
              "  }\n",
              "\n",
              "  .colab-df-quickchart:hover {\n",
              "    background-color: var(--hover-bg-color);\n",
              "    box-shadow: 0 1px 2px rgba(60, 64, 67, 0.3), 0 1px 3px 1px rgba(60, 64, 67, 0.15);\n",
              "    fill: var(--button-hover-fill-color);\n",
              "  }\n",
              "\n",
              "  .colab-df-quickchart-complete:disabled,\n",
              "  .colab-df-quickchart-complete:disabled:hover {\n",
              "    background-color: var(--disabled-bg-color);\n",
              "    fill: var(--disabled-fill-color);\n",
              "    box-shadow: none;\n",
              "  }\n",
              "\n",
              "  .colab-df-spinner {\n",
              "    border: 2px solid var(--fill-color);\n",
              "    border-color: transparent;\n",
              "    border-bottom-color: var(--fill-color);\n",
              "    animation:\n",
              "      spin 1s steps(1) infinite;\n",
              "  }\n",
              "\n",
              "  @keyframes spin {\n",
              "    0% {\n",
              "      border-color: transparent;\n",
              "      border-bottom-color: var(--fill-color);\n",
              "      border-left-color: var(--fill-color);\n",
              "    }\n",
              "    20% {\n",
              "      border-color: transparent;\n",
              "      border-left-color: var(--fill-color);\n",
              "      border-top-color: var(--fill-color);\n",
              "    }\n",
              "    30% {\n",
              "      border-color: transparent;\n",
              "      border-left-color: var(--fill-color);\n",
              "      border-top-color: var(--fill-color);\n",
              "      border-right-color: var(--fill-color);\n",
              "    }\n",
              "    40% {\n",
              "      border-color: transparent;\n",
              "      border-right-color: var(--fill-color);\n",
              "      border-top-color: var(--fill-color);\n",
              "    }\n",
              "    60% {\n",
              "      border-color: transparent;\n",
              "      border-right-color: var(--fill-color);\n",
              "    }\n",
              "    80% {\n",
              "      border-color: transparent;\n",
              "      border-right-color: var(--fill-color);\n",
              "      border-bottom-color: var(--fill-color);\n",
              "    }\n",
              "    90% {\n",
              "      border-color: transparent;\n",
              "      border-bottom-color: var(--fill-color);\n",
              "    }\n",
              "  }\n",
              "</style>\n",
              "\n",
              "  <script>\n",
              "    async function quickchart(key) {\n",
              "      const quickchartButtonEl =\n",
              "        document.querySelector('#' + key + ' button');\n",
              "      quickchartButtonEl.disabled = true;  // To prevent multiple clicks.\n",
              "      quickchartButtonEl.classList.add('colab-df-spinner');\n",
              "      try {\n",
              "        const charts = await google.colab.kernel.invokeFunction(\n",
              "            'suggestCharts', [key], {});\n",
              "      } catch (error) {\n",
              "        console.error('Error during call to suggestCharts:', error);\n",
              "      }\n",
              "      quickchartButtonEl.classList.remove('colab-df-spinner');\n",
              "      quickchartButtonEl.classList.add('colab-df-quickchart-complete');\n",
              "    }\n",
              "    (() => {\n",
              "      let quickchartButtonEl =\n",
              "        document.querySelector('#df-dc05fa7e-7c9c-4d1a-a7fe-09131cbb8557 button');\n",
              "      quickchartButtonEl.style.display =\n",
              "        google.colab.kernel.accessAllowed ? 'block' : 'none';\n",
              "    })();\n",
              "  </script>\n",
              "</div>\n",
              "    </div>\n",
              "  </div>\n"
            ],
            "application/vnd.google.colaboratory.intrinsic+json": {
              "type": "dataframe",
              "variable_name": "data"
            }
          },
          "metadata": {},
          "execution_count": 160
        }
      ]
    },
    {
      "cell_type": "code",
      "source": [
        "#representing data visually\n",
        "data['Close'].plot()"
      ],
      "metadata": {
        "execution": {
          "iopub.status.busy": "2024-05-07T11:37:32.418793Z",
          "iopub.execute_input": "2024-05-07T11:37:32.419256Z",
          "iopub.status.idle": "2024-05-07T11:37:32.887184Z",
          "shell.execute_reply.started": "2024-05-07T11:37:32.419226Z",
          "shell.execute_reply": "2024-05-07T11:37:32.885895Z"
        },
        "trusted": true,
        "colab": {
          "base_uri": "https://localhost:8080/",
          "height": 719
        },
        "id": "9JpvNJge5Hib",
        "outputId": "0394b473-8555-4e5b-ed2e-d5dfb391d408"
      },
      "execution_count": 161,
      "outputs": [
        {
          "output_type": "execute_result",
          "data": {
            "text/plain": [
              "<Axes: >"
            ]
          },
          "metadata": {},
          "execution_count": 161
        },
        {
          "output_type": "display_data",
          "data": {
            "text/plain": [
              "<Figure size 1400x700 with 1 Axes>"
            ],
            "image/png": "[encoded data removed]"
          },
          "metadata": {}
        }
      ]
    },
    {
      "cell_type": "code",
      "source": [
        "# defining data and symbols as features\n",
        "data['Date_as_datetime'] = pd.to_datetime(data['Date'])\n",
        "\n",
        "def number_of_days(date_1, date_2):\n",
        "    return ((date_2 - date_1).astype(int)/(864*1e11)).astype(int)\n",
        "\n",
        "date_1 =  min(data['Date_as_datetime'])\n",
        "date_2 =  data['Date_as_datetime']\n",
        "#print(number_of_days(date_1, date_2))\n",
        "\n",
        "data['Days'] = number_of_days(date_1, data['Date_as_datetime'])\n",
        "data['Symbol'] = data['Symbol'].astype(\"category\")\n",
        "data = data.reindex(columns=['Date', 'Open', 'High', 'Low', 'Close', 'Adj Close', 'Volume', 'Symbol', 'Days'])\n",
        "print(data.head)\n"
      ],
      "metadata": {
        "execution": {
          "iopub.status.busy": "2024-05-07T11:37:32.898778Z",
          "iopub.execute_input": "2024-05-07T11:37:32.899132Z",
          "iopub.status.idle": "2024-05-07T11:37:32.910749Z",
          "shell.execute_reply.started": "2024-05-07T11:37:32.899103Z",
          "shell.execute_reply": "2024-05-07T11:37:32.9096Z"
        },
        "trusted": true,
        "colab": {
          "base_uri": "https://localhost:8080/"
        },
        "id": "Lwir2YYv5Hib",
        "outputId": "15b5ed6f-ca3d-4d1a-96a4-abdf33c1d867"
      },
      "execution_count": 162,
      "outputs": [
        {
          "output_type": "stream",
          "name": "stdout",
          "text": [
            "<bound method NDFrame.head of                Date       Open       High        Low      Close  Adj Close  \\\n",
            "0        1998-12-22  20.781250  20.828125  20.750000  20.828125  12.881685   \n",
            "1        1998-12-23  20.968750  21.140625  20.968750  21.046875  13.016976   \n",
            "2        1998-12-24  21.296875  21.531250  21.203125  21.531250  13.316548   \n",
            "3        1998-12-28  21.500000  21.500000  21.312500  21.343750  13.200579   \n",
            "4        1998-12-29  21.734375  21.734375  21.734375  21.734375  13.442181   \n",
            "...             ...        ...        ...        ...        ...        ...   \n",
            "3954311  2020-03-26  27.610001  29.030001  27.610001  29.010000  29.010000   \n",
            "3954312  2020-03-27  28.090000  28.840000  27.719999  28.129999  28.129999   \n",
            "3954313  2020-03-30  28.160000  28.820000  27.760000  28.820000  28.820000   \n",
            "3954314  2020-03-31  28.760000  29.000000  28.190001  28.389999  28.389999   \n",
            "3954315  2020-04-01  27.150000  27.420000  26.620001  26.700001  26.700001   \n",
            "\n",
            "          Volume Symbol   Days  \n",
            "0         1900.0    XLB   4646  \n",
            "1          700.0    XLB   4647  \n",
            "2         1500.0    XLB   4648  \n",
            "3         2500.0    XLB   4652  \n",
            "4          100.0    XLB   4653  \n",
            "...          ...    ...    ...  \n",
            "3954311  34300.0   KNOW  12411  \n",
            "3954312  62700.0   KNOW  12412  \n",
            "3954313  16400.0   KNOW  12415  \n",
            "3954314  16800.0   KNOW  12416  \n",
            "3954315  30200.0   KNOW  12417  \n",
            "\n",
            "[3954282 rows x 9 columns]>\n"
          ]
        }
      ]
    },
    {
      "cell_type": "code",
      "source": [
        "#splitting the data into Training and Testing Data\n",
        "data = data.sample(frac=1).reset_index(drop=True)\n",
        "training_ratio = 0.75\n",
        "train_data = data.iloc[:int(training_ratio*len(data)), :]\n",
        "test_data = data.iloc[int(training_ratio*len(data)):, :]"
      ],
      "metadata": {
        "execution": {
          "iopub.status.busy": "2024-05-07T11:37:32.888409Z",
          "iopub.execute_input": "2024-05-07T11:37:32.888767Z",
          "iopub.status.idle": "2024-05-07T11:37:32.896254Z",
          "shell.execute_reply.started": "2024-05-07T11:37:32.888739Z",
          "shell.execute_reply": "2024-05-07T11:37:32.89495Z"
        },
        "trusted": true,
        "id": "NdzfFib-5Hib"
      },
      "execution_count": 163,
      "outputs": []
    },
    {
      "cell_type": "code",
      "source": [
        "#Defining the features and target variable\n",
        "features = ['Open', 'Volume', 'Days', 'Symbol']\n",
        "target = 'Close'"
      ],
      "metadata": {
        "execution": {
          "iopub.status.busy": "2024-05-07T11:37:32.912075Z",
          "iopub.execute_input": "2024-05-07T11:37:32.912429Z",
          "iopub.status.idle": "2024-05-07T11:37:32.923424Z",
          "shell.execute_reply.started": "2024-05-07T11:37:32.9124Z",
          "shell.execute_reply": "2024-05-07T11:37:32.922393Z"
        },
        "trusted": true,
        "id": "EDC-4uhE5Hib"
      },
      "execution_count": 164,
      "outputs": []
    },
    {
      "cell_type": "code",
      "source": [
        "#creating and training the model\n",
        "from sklearn.preprocessing import StandardScaler\n",
        "model = xgb.XGBRegressor(enable_categorical = True)\n",
        "'''\n",
        "scaler = StandardScaler()\n",
        "train_data_scaled = scaler.fit_transform(train_data[features])\n",
        "model.fit(train_data_scaled, train_data[target])\n",
        "'''\n",
        "model.fit(train_data[features], train_data[target])"
      ],
      "metadata": {
        "execution": {
          "iopub.status.busy": "2024-05-07T11:37:32.924685Z",
          "iopub.execute_input": "2024-05-07T11:37:32.924979Z",
          "iopub.status.idle": "2024-05-07T11:37:33.28222Z",
          "shell.execute_reply.started": "2024-05-07T11:37:32.924955Z",
          "shell.execute_reply": "2024-05-07T11:37:33.281413Z"
        },
        "trusted": true,
        "colab": {
          "base_uri": "https://localhost:8080/",
          "height": 248
        },
        "id": "XquCAi6a5Hic",
        "outputId": "37150353-caf3-49d7-9830-dc6a3e0ee922"
      },
      "execution_count": 165,
      "outputs": [
        {
          "output_type": "execute_result",
          "data": {
            "text/plain": [
              "XGBRegressor(base_score=None, booster=None, callbacks=None,\n",
              "             colsample_bylevel=None, colsample_bynode=None,\n",
              "             colsample_bytree=None, device=None, early_stopping_rounds=None,\n",
              "             enable_categorical=True, eval_metric=None, feature_types=None,\n",
              "             gamma=None, grow_policy=None, importance_type=None,\n",
              "             interaction_constraints=None, learning_rate=None, max_bin=None,\n",
              "             max_cat_threshold=None, max_cat_to_onehot=None,\n",
              "             max_delta_step=None, max_depth=None, max_leaves=None,\n",
              "             min_child_weight=None, missing=nan, monotone_constraints=None,\n",
              "             multi_strategy=None, n_estimators=None, n_jobs=None,\n",
              "             num_parallel_tree=None, random_state=None, ...)"
            ],
            "text/html": [
              "<style>#sk-container-id-13 {color: black;background-color: white;}#sk-container-id-13 pre{padding: 0;}#sk-container-id-13 div.sk-toggleable {background-color: white;}#sk-container-id-13 label.sk-toggleable__label {cursor: pointer;display: block;width: 100%;margin-bottom: 0;padding: 0.3em;box-sizing: border-box;text-align: center;}#sk-container-id-13 label.sk-toggleable__label-arrow:before {content: \"▸\";float: left;margin-right: 0.25em;color: #696969;}#sk-container-id-13 label.sk-toggleable__label-arrow:hover:before {color: black;}#sk-container-id-13 div.sk-estimator:hover label.sk-toggleable__label-arrow:before {color: black;}#sk-container-id-13 div.sk-toggleable__content {max-height: 0;max-width: 0;overflow: hidden;text-align: left;background-color: #f0f8ff;}#sk-container-id-13 div.sk-toggleable__content pre {margin: 0.2em;color: black;border-radius: 0.25em;background-color: #f0f8ff;}#sk-container-id-13 input.sk-toggleable__control:checked~div.sk-toggleable__content {max-height: 200px;max-width: 100%;overflow: auto;}#sk-container-id-13 input.sk-toggleable__control:checked~label.sk-toggleable__label-arrow:before {content: \"▾\";}#sk-container-id-13 div.sk-estimator input.sk-toggleable__control:checked~label.sk-toggleable__label {background-color: #d4ebff;}#sk-container-id-13 div.sk-label input.sk-toggleable__control:checked~label.sk-toggleable__label {background-color: #d4ebff;}#sk-container-id-13 input.sk-hidden--visually {border: 0;clip: rect(1px 1px 1px 1px);clip: rect(1px, 1px, 1px, 1px);height: 1px;margin: -1px;overflow: hidden;padding: 0;position: absolute;width: 1px;}#sk-container-id-13 div.sk-estimator {font-family: monospace;background-color: #f0f8ff;border: 1px dotted black;border-radius: 0.25em;box-sizing: border-box;margin-bottom: 0.5em;}#sk-container-id-13 div.sk-estimator:hover {background-color: #d4ebff;}#sk-container-id-13 div.sk-parallel-item::after {content: \"\";width: 100%;border-bottom: 1px solid gray;flex-grow: 1;}#sk-container-id-13 div.sk-label:hover label.sk-toggleable__label {background-color: #d4ebff;}#sk-container-id-13 div.sk-serial::before {content: \"\";position: absolute;border-left: 1px solid gray;box-sizing: border-box;top: 0;bottom: 0;left: 50%;z-index: 0;}#sk-container-id-13 div.sk-serial {display: flex;flex-direction: column;align-items: center;background-color: white;padding-right: 0.2em;padding-left: 0.2em;position: relative;}#sk-container-id-13 div.sk-item {position: relative;z-index: 1;}#sk-container-id-13 div.sk-parallel {display: flex;align-items: stretch;justify-content: center;background-color: white;position: relative;}#sk-container-id-13 div.sk-item::before, #sk-container-id-13 div.sk-parallel-item::before {content: \"\";position: absolute;border-left: 1px solid gray;box-sizing: border-box;top: 0;bottom: 0;left: 50%;z-index: -1;}#sk-container-id-13 div.sk-parallel-item {display: flex;flex-direction: column;z-index: 1;position: relative;background-color: white;}#sk-container-id-13 div.sk-parallel-item:first-child::after {align-self: flex-end;width: 50%;}#sk-container-id-13 div.sk-parallel-item:last-child::after {align-self: flex-start;width: 50%;}#sk-container-id-13 div.sk-parallel-item:only-child::after {width: 0;}#sk-container-id-13 div.sk-dashed-wrapped {border: 1px dashed gray;margin: 0 0.4em 0.5em 0.4em;box-sizing: border-box;padding-bottom: 0.4em;background-color: white;}#sk-container-id-13 div.sk-label label {font-family: monospace;font-weight: bold;display: inline-block;line-height: 1.2em;}#sk-container-id-13 div.sk-label-container {text-align: center;}#sk-container-id-13 div.sk-container {/* jupyter's `normalize.less` sets `[hidden] { display: none; }` but bootstrap.min.css set `[hidden] { display: none !important; }` so we also need the `!important` here to be able to override the default hidden behavior on the sphinx rendered scikit-learn.org. See: https://github.com/scikit-learn/scikit-learn/issues/21755 */display: inline-block !important;position: relative;}#sk-container-id-13 div.sk-text-repr-fallback {display: none;}</style><div id=\"sk-container-id-13\" class=\"sk-top-container\"><div class=\"sk-text-repr-fallback\"><pre>XGBRegressor(base_score=None, booster=None, callbacks=None,\n",
              "             colsample_bylevel=None, colsample_bynode=None,\n",
              "             colsample_bytree=None, device=None, early_stopping_rounds=None,\n",
              "             enable_categorical=True, eval_metric=None, feature_types=None,\n",
              "             gamma=None, grow_policy=None, importance_type=None,\n",
              "             interaction_constraints=None, learning_rate=None, max_bin=None,\n",
              "             max_cat_threshold=None, max_cat_to_onehot=None,\n",
              "             max_delta_step=None, max_depth=None, max_leaves=None,\n",
              "             min_child_weight=None, missing=nan, monotone_constraints=None,\n",
              "             multi_strategy=None, n_estimators=None, n_jobs=None,\n",
              "             num_parallel_tree=None, random_state=None, ...)</pre><b>In a Jupyter environment, please rerun this cell to show the HTML representation or trust the notebook. <br />On GitHub, the HTML representation is unable to render, please try loading this page with nbviewer.org.</b></div><div class=\"sk-container\" hidden><div class=\"sk-item\"><div class=\"sk-estimator sk-toggleable\"><input class=\"sk-toggleable__control sk-hidden--visually\" id=\"sk-estimator-id-13\" type=\"checkbox\" checked><label for=\"sk-estimator-id-13\" class=\"sk-toggleable__label sk-toggleable__label-arrow\">XGBRegressor</label><div class=\"sk-toggleable__content\"><pre>XGBRegressor(base_score=None, booster=None, callbacks=None,\n",
              "             colsample_bylevel=None, colsample_bynode=None,\n",
              "             colsample_bytree=None, device=None, early_stopping_rounds=None,\n",
              "             enable_categorical=True, eval_metric=None, feature_types=None,\n",
              "             gamma=None, grow_policy=None, importance_type=None,\n",
              "             interaction_constraints=None, learning_rate=None, max_bin=None,\n",
              "             max_cat_threshold=None, max_cat_to_onehot=None,\n",
              "             max_delta_step=None, max_depth=None, max_leaves=None,\n",
              "             min_child_weight=None, missing=nan, monotone_constraints=None,\n",
              "             multi_strategy=None, n_estimators=None, n_jobs=None,\n",
              "             num_parallel_tree=None, random_state=None, ...)</pre></div></div></div></div></div>"
            ]
          },
          "metadata": {},
          "execution_count": 165
        }
      ]
    },
    {
      "cell_type": "code",
      "source": [
        "#making and showing the predictions on the testing data\n",
        "predictions = model.predict(test_data[features])\n",
        "print('Model Predictions:')\n",
        "print(predictions)"
      ],
      "metadata": {
        "execution": {
          "iopub.status.busy": "2024-05-07T11:37:33.283414Z",
          "iopub.execute_input": "2024-05-07T11:37:33.283919Z",
          "iopub.status.idle": "2024-05-07T11:37:33.329102Z",
          "shell.execute_reply.started": "2024-05-07T11:37:33.28389Z",
          "shell.execute_reply": "2024-05-07T11:37:33.328201Z"
        },
        "trusted": true,
        "colab": {
          "base_uri": "https://localhost:8080/"
        },
        "id": "efvg4iuj5Hic",
        "outputId": "381810b9-8fd2-4db2-c30c-117f30b0b6d9"
      },
      "execution_count": 166,
      "outputs": [
        {
          "output_type": "stream",
          "name": "stdout",
          "text": [
            "Model Predictions:\n",
            "[43.773026 37.630016 51.677578 ... 20.311071 63.935223 43.83241 ]\n"
          ]
        }
      ]
    },
    {
      "cell_type": "code",
      "source": [
        "#Showing the actual values\n",
        "print('Actual Values:')\n",
        "print(test_data[target])"
      ],
      "metadata": {
        "execution": {
          "iopub.status.busy": "2024-05-07T11:37:33.330558Z",
          "iopub.execute_input": "2024-05-07T11:37:33.331225Z",
          "iopub.status.idle": "2024-05-07T11:37:33.338876Z",
          "shell.execute_reply.started": "2024-05-07T11:37:33.331191Z",
          "shell.execute_reply": "2024-05-07T11:37:33.337808Z"
        },
        "trusted": true,
        "colab": {
          "base_uri": "https://localhost:8080/"
        },
        "id": "3dB_twhY5Hic",
        "outputId": "82817f70-4928-4040-a97a-8f89bca7975d"
      },
      "execution_count": 167,
      "outputs": [
        {
          "output_type": "stream",
          "name": "stdout",
          "text": [
            "Actual Values:\n",
            "2965711     44.160000\n",
            "2965712     39.910000\n",
            "2965713     51.630001\n",
            "2965714     16.230000\n",
            "2965715     54.549999\n",
            "              ...    \n",
            "3954277    103.980003\n",
            "3954278    463.799988\n",
            "3954279     21.620001\n",
            "3954280     63.090000\n",
            "3954281     41.369999\n",
            "Name: Close, Length: 988571, dtype: float64\n"
          ]
        }
      ]
    },
    {
      "cell_type": "code",
      "source": [
        "#Accuracy of the model\n",
        "accuracy = model.score(test_data[features], test_data[target])\n",
        "print('accuracy:')\n",
        "print(accuracy)"
      ],
      "metadata": {
        "execution": {
          "iopub.status.busy": "2024-05-07T11:37:33.340415Z",
          "iopub.execute_input": "2024-05-07T11:37:33.341309Z",
          "iopub.status.idle": "2024-05-07T11:37:33.390959Z",
          "shell.execute_reply.started": "2024-05-07T11:37:33.341275Z",
          "shell.execute_reply": "2024-05-07T11:37:33.390116Z"
        },
        "trusted": true,
        "colab": {
          "base_uri": "https://localhost:8080/"
        },
        "id": "ID1wYKrG5Hic",
        "outputId": "94e49418-5aef-48db-d3f4-97046647900f"
      },
      "execution_count": 168,
      "outputs": [
        {
          "output_type": "stream",
          "name": "stdout",
          "text": [
            "accuracy:\n",
            "0.9660334254635236\n"
          ]
        }
      ]
    },
    {
      "cell_type": "code",
      "source": [
        "#plotting the predictions and the close price\n",
        "plt.rcParams[\"figure.figsize\"] = [10.00, 5.00]\n",
        "plt.rcParams[\"figure.autolayout\"] = True\n",
        "plt.rcParams[\"figure.dpi\"] = 140\n",
        "plt.plot(data['Close'], label = 'Close Price')\n",
        "plt.plot(test_data[target].index, predictions, label = 'Predictions')\n",
        "plt.legend()\n",
        "plt.show()\n"
      ],
      "metadata": {
        "execution": {
          "iopub.status.busy": "2024-05-07T11:37:33.393794Z",
          "iopub.execute_input": "2024-05-07T11:37:33.394519Z",
          "iopub.status.idle": "2024-05-07T11:37:33.967765Z",
          "shell.execute_reply.started": "2024-05-07T11:37:33.394483Z",
          "shell.execute_reply": "2024-05-07T11:37:33.966901Z"
        },
        "trusted": true,
        "colab": {
          "base_uri": "https://localhost:8080/",
          "height": 702
        },
        "id": "o_FSfTXd5Hic",
        "outputId": "3f1792da-bc67-4f94-c844-4ebb000a7622"
      },
      "execution_count": 169,
      "outputs": [
        {
          "output_type": "display_data",
          "data": {
            "text/plain": [
              "<Figure size 1400x700 with 1 Axes>"
            ],
            "image/png": "[encoded data removed]"
          },
          "metadata": {}
        }
      ]
    }
  ]
}